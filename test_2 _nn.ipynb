{
 "cells": [
  {
   "cell_type": "code",
   "execution_count": 561,
   "metadata": {},
   "outputs": [],
   "source": [
    "import pandas as pd\n",
    "import numpy as np\n",
    "import matplotlib.pyplot as plt\n",
    "import seaborn as sns\n",
    "from scipy import signal\n",
    "from sklearn.ensemble import IsolationForest\n",
    "from sklearn import preprocessing\n",
    "import torch\n",
    "from math import floor\n",
    "\n",
    "path_2 = './part_2'"
   ]
  },
  {
   "cell_type": "markdown",
   "metadata": {},
   "source": [
    "## Initial Data Load"
   ]
  },
  {
   "cell_type": "code",
   "execution_count": 562,
   "metadata": {},
   "outputs": [],
   "source": [
    "assets = pd.read_csv(path_2 + '/assets.csv')\n",
    "collects = pd.read_csv(path_2 + '/collects.csv')"
   ]
  },
  {
   "cell_type": "code",
   "execution_count": 563,
   "metadata": {},
   "outputs": [
    {
     "data": {
      "text/html": [
       "<div>\n",
       "<style scoped>\n",
       "    .dataframe tbody tr th:only-of-type {\n",
       "        vertical-align: middle;\n",
       "    }\n",
       "\n",
       "    .dataframe tbody tr th {\n",
       "        vertical-align: top;\n",
       "    }\n",
       "\n",
       "    .dataframe thead th {\n",
       "        text-align: right;\n",
       "    }\n",
       "</style>\n",
       "<table border=\"1\" class=\"dataframe\">\n",
       "  <thead>\n",
       "    <tr style=\"text-align: right;\">\n",
       "      <th></th>\n",
       "      <th>_id</th>\n",
       "      <th>company</th>\n",
       "      <th>createdAt</th>\n",
       "      <th>description</th>\n",
       "      <th>model</th>\n",
       "      <th>modelType</th>\n",
       "      <th>name</th>\n",
       "      <th>sensorId</th>\n",
       "      <th>specifications.axisX</th>\n",
       "      <th>specifications.axisY</th>\n",
       "      <th>specifications.axisZ</th>\n",
       "      <th>specifications.maxDowntime</th>\n",
       "      <th>specifications.maxTemp</th>\n",
       "      <th>specifications.power</th>\n",
       "      <th>specifications.rpm</th>\n",
       "      <th>specifications.workdays</th>\n",
       "    </tr>\n",
       "  </thead>\n",
       "  <tbody>\n",
       "    <tr>\n",
       "      <th>0</th>\n",
       "      <td>602fac7228aba1048d473cc4</td>\n",
       "      <td>5fb2c4eb1369a4325dc4545f</td>\n",
       "      <td>2021-02-19 12:17:54.457</td>\n",
       "      <td>NaN</td>\n",
       "      <td>60241102ed8ef30e9d309af9</td>\n",
       "      <td>compressor</td>\n",
       "      <td>Ventilador Acima do Elemento GA160 FF - Prédio...</td>\n",
       "      <td>IAJ9206</td>\n",
       "      <td>vertical</td>\n",
       "      <td>horizontal</td>\n",
       "      <td>axial</td>\n",
       "      <td>48.00</td>\n",
       "      <td>NaN</td>\n",
       "      <td>3.7</td>\n",
       "      <td>1735.0</td>\n",
       "      <td>NaN</td>\n",
       "    </tr>\n",
       "    <tr>\n",
       "      <th>1</th>\n",
       "      <td>5fd0e297bf7d581c1823b8e4</td>\n",
       "      <td>5fbbadeb82a6b901c26df618</td>\n",
       "      <td>2020-12-09 14:43:35.168</td>\n",
       "      <td>NaN</td>\n",
       "      <td>5fd0cf96bf7d581c1823b4c4</td>\n",
       "      <td>heaterFurnace</td>\n",
       "      <td>RDF-61.1</td>\n",
       "      <td>LZY4270</td>\n",
       "      <td>axial</td>\n",
       "      <td>vertical</td>\n",
       "      <td>horizontal</td>\n",
       "      <td>0.25</td>\n",
       "      <td>55.0</td>\n",
       "      <td>0.0</td>\n",
       "      <td>1740.0</td>\n",
       "      <td>NaN</td>\n",
       "    </tr>\n",
       "    <tr>\n",
       "      <th>2</th>\n",
       "      <td>5fb286de1369a4325dc45433</td>\n",
       "      <td>5f6b83e34dd69d4bc799ea1f</td>\n",
       "      <td>2020-11-16 14:04:14.564</td>\n",
       "      <td>-</td>\n",
       "      <td>5fb275981369a4325dc4542e</td>\n",
       "      <td>transformer</td>\n",
       "      <td>TRANSFORMADOR 500 KVA N°1</td>\n",
       "      <td>MUR8453</td>\n",
       "      <td>horizontal</td>\n",
       "      <td>vertical</td>\n",
       "      <td>NaN</td>\n",
       "      <td>NaN</td>\n",
       "      <td>65.0</td>\n",
       "      <td>NaN</td>\n",
       "      <td>NaN</td>\n",
       "      <td>NaN</td>\n",
       "    </tr>\n",
       "    <tr>\n",
       "      <th>3</th>\n",
       "      <td>6023fad9ed8ef30e9d30952b</td>\n",
       "      <td>5fb2c4eb1369a4325dc4545f</td>\n",
       "      <td>2021-02-10 15:25:13.265</td>\n",
       "      <td>NaN</td>\n",
       "      <td>6023f7dced8ef30e9d30945f</td>\n",
       "      <td>pump</td>\n",
       "      <td>Motor Bomba - Tanque de Expansão Tubo Verde</td>\n",
       "      <td>MXK6435</td>\n",
       "      <td>horizontal</td>\n",
       "      <td>axial</td>\n",
       "      <td>vertical</td>\n",
       "      <td>48.00</td>\n",
       "      <td>NaN</td>\n",
       "      <td>7.0</td>\n",
       "      <td>3525.0</td>\n",
       "      <td>NaN</td>\n",
       "    </tr>\n",
       "    <tr>\n",
       "      <th>4</th>\n",
       "      <td>5ff71a150b6abb7be05083b0</td>\n",
       "      <td>5f17203f640a00cc08cb1b3d</td>\n",
       "      <td>2021-01-07 14:26:29.726</td>\n",
       "      <td>NaN</td>\n",
       "      <td>5ff5a854adacd8372cf06950</td>\n",
       "      <td>pump</td>\n",
       "      <td>CAG1- BAGS.12- Motor</td>\n",
       "      <td>MYD8706</td>\n",
       "      <td>horizontal</td>\n",
       "      <td>axial</td>\n",
       "      <td>vertical</td>\n",
       "      <td>NaN</td>\n",
       "      <td>NaN</td>\n",
       "      <td>30.0</td>\n",
       "      <td>1765.0</td>\n",
       "      <td>NaN</td>\n",
       "    </tr>\n",
       "  </tbody>\n",
       "</table>\n",
       "</div>"
      ],
      "text/plain": [
       "                        _id                   company               createdAt  \\\n",
       "0  602fac7228aba1048d473cc4  5fb2c4eb1369a4325dc4545f 2021-02-19 12:17:54.457   \n",
       "1  5fd0e297bf7d581c1823b8e4  5fbbadeb82a6b901c26df618 2020-12-09 14:43:35.168   \n",
       "2  5fb286de1369a4325dc45433  5f6b83e34dd69d4bc799ea1f 2020-11-16 14:04:14.564   \n",
       "3  6023fad9ed8ef30e9d30952b  5fb2c4eb1369a4325dc4545f 2021-02-10 15:25:13.265   \n",
       "4  5ff71a150b6abb7be05083b0  5f17203f640a00cc08cb1b3d 2021-01-07 14:26:29.726   \n",
       "\n",
       "  description                     model      modelType  \\\n",
       "0         NaN  60241102ed8ef30e9d309af9     compressor   \n",
       "1         NaN  5fd0cf96bf7d581c1823b4c4  heaterFurnace   \n",
       "2           -  5fb275981369a4325dc4542e    transformer   \n",
       "3         NaN  6023f7dced8ef30e9d30945f           pump   \n",
       "4         NaN  5ff5a854adacd8372cf06950           pump   \n",
       "\n",
       "                                                name sensorId  \\\n",
       "0  Ventilador Acima do Elemento GA160 FF - Prédio...  IAJ9206   \n",
       "1                                           RDF-61.1  LZY4270   \n",
       "2                          TRANSFORMADOR 500 KVA N°1  MUR8453   \n",
       "3      Motor Bomba - Tanque de Expansão Tubo Verde    MXK6435   \n",
       "4                               CAG1- BAGS.12- Motor  MYD8706   \n",
       "\n",
       "  specifications.axisX specifications.axisY specifications.axisZ  \\\n",
       "0             vertical           horizontal                axial   \n",
       "1                axial             vertical           horizontal   \n",
       "2           horizontal             vertical                  NaN   \n",
       "3           horizontal                axial             vertical   \n",
       "4           horizontal                axial             vertical   \n",
       "\n",
       "   specifications.maxDowntime  specifications.maxTemp  specifications.power  \\\n",
       "0                       48.00                     NaN                   3.7   \n",
       "1                        0.25                    55.0                   0.0   \n",
       "2                         NaN                    65.0                   NaN   \n",
       "3                       48.00                     NaN                   7.0   \n",
       "4                         NaN                     NaN                  30.0   \n",
       "\n",
       "   specifications.rpm specifications.workdays  \n",
       "0              1735.0                     NaN  \n",
       "1              1740.0                     NaN  \n",
       "2                 NaN                     NaN  \n",
       "3              3525.0                     NaN  \n",
       "4              1765.0                     NaN  "
      ]
     },
     "execution_count": 563,
     "metadata": {},
     "output_type": "execute_result"
    }
   ],
   "source": [
    "assets['sensors'] = assets['sensors'].str[2:-2]\n",
    "assets = assets.rename(columns={'sensors':'sensorId'})\n",
    "assets['createdAt'] = pd.to_datetime(assets['createdAt']).dt.tz_localize(None)\n",
    "assets.head()"
   ]
  },
  {
   "cell_type": "code",
   "execution_count": 564,
   "metadata": {},
   "outputs": [
    {
     "name": "stdout",
     "output_type": "stream",
     "text": [
      "<class 'pandas.core.frame.DataFrame'>\n",
      "RangeIndex: 10 entries, 0 to 9\n",
      "Data columns (total 16 columns):\n",
      " #   Column                      Non-Null Count  Dtype         \n",
      "---  ------                      --------------  -----         \n",
      " 0   _id                         10 non-null     object        \n",
      " 1   company                     10 non-null     object        \n",
      " 2   createdAt                   10 non-null     datetime64[ns]\n",
      " 3   description                 3 non-null      object        \n",
      " 4   model                       10 non-null     object        \n",
      " 5   modelType                   10 non-null     object        \n",
      " 6   name                        10 non-null     object        \n",
      " 7   sensorId                    10 non-null     object        \n",
      " 8   specifications.axisX        8 non-null      object        \n",
      " 9   specifications.axisY        8 non-null      object        \n",
      " 10  specifications.axisZ        7 non-null      object        \n",
      " 11  specifications.maxDowntime  6 non-null      float64       \n",
      " 12  specifications.maxTemp      5 non-null      float64       \n",
      " 13  specifications.power        8 non-null      float64       \n",
      " 14  specifications.rpm          9 non-null      float64       \n",
      " 15  specifications.workdays     2 non-null      object        \n",
      "dtypes: datetime64[ns](1), float64(4), object(11)\n",
      "memory usage: 1.4+ KB\n"
     ]
    }
   ],
   "source": [
    "assets.info()"
   ]
  },
  {
   "cell_type": "code",
   "execution_count": 565,
   "metadata": {},
   "outputs": [
    {
     "data": {
      "text/html": [
       "<div>\n",
       "<style scoped>\n",
       "    .dataframe tbody tr th:only-of-type {\n",
       "        vertical-align: middle;\n",
       "    }\n",
       "\n",
       "    .dataframe tbody tr th {\n",
       "        vertical-align: top;\n",
       "    }\n",
       "\n",
       "    .dataframe thead th {\n",
       "        text-align: right;\n",
       "    }\n",
       "</style>\n",
       "<table border=\"1\" class=\"dataframe\">\n",
       "  <thead>\n",
       "    <tr style=\"text-align: right;\">\n",
       "      <th></th>\n",
       "      <th>_id</th>\n",
       "      <th>created</th>\n",
       "      <th>params.accelRMS.x</th>\n",
       "      <th>params.accelRMS.y</th>\n",
       "      <th>params.accelRMS.z</th>\n",
       "      <th>params.duration</th>\n",
       "      <th>params.sampRate</th>\n",
       "      <th>params.timeStart</th>\n",
       "      <th>params.velRMS.x</th>\n",
       "      <th>params.velRMS.y</th>\n",
       "      <th>params.velRMS.z</th>\n",
       "      <th>sensorId</th>\n",
       "      <th>temp</th>\n",
       "    </tr>\n",
       "  </thead>\n",
       "  <tbody>\n",
       "    <tr>\n",
       "      <th>0</th>\n",
       "      <td>60b57955f77013684c413e39</td>\n",
       "      <td>2021-06-01 00:03:33.370</td>\n",
       "      <td>0.010463</td>\n",
       "      <td>0.004463</td>\n",
       "      <td>0.011677</td>\n",
       "      <td>3.006</td>\n",
       "      <td>1656.686627</td>\n",
       "      <td>1.622506e+09</td>\n",
       "      <td>0.000511</td>\n",
       "      <td>0.000176</td>\n",
       "      <td>0.000289</td>\n",
       "      <td>IAJ9206</td>\n",
       "      <td>23.94</td>\n",
       "    </tr>\n",
       "    <tr>\n",
       "      <th>1</th>\n",
       "      <td>60b57c53f77013684c41409f</td>\n",
       "      <td>2021-06-01 00:16:19.173</td>\n",
       "      <td>0.011437</td>\n",
       "      <td>0.004983</td>\n",
       "      <td>0.011482</td>\n",
       "      <td>3.006</td>\n",
       "      <td>1656.686627</td>\n",
       "      <td>1.622507e+09</td>\n",
       "      <td>0.000633</td>\n",
       "      <td>0.000238</td>\n",
       "      <td>0.000292</td>\n",
       "      <td>IAJ9206</td>\n",
       "      <td>23.19</td>\n",
       "    </tr>\n",
       "    <tr>\n",
       "      <th>2</th>\n",
       "      <td>60b57f34f77013684c4142cd</td>\n",
       "      <td>2021-06-01 00:28:36.553</td>\n",
       "      <td>0.010494</td>\n",
       "      <td>0.005024</td>\n",
       "      <td>0.011120</td>\n",
       "      <td>3.006</td>\n",
       "      <td>1656.686627</td>\n",
       "      <td>1.622507e+09</td>\n",
       "      <td>0.000524</td>\n",
       "      <td>0.000226</td>\n",
       "      <td>0.000246</td>\n",
       "      <td>IAJ9206</td>\n",
       "      <td>22.50</td>\n",
       "    </tr>\n",
       "    <tr>\n",
       "      <th>3</th>\n",
       "      <td>60b58237f77013684c41450c</td>\n",
       "      <td>2021-06-01 00:41:27.622</td>\n",
       "      <td>0.009859</td>\n",
       "      <td>0.004786</td>\n",
       "      <td>0.011096</td>\n",
       "      <td>3.006</td>\n",
       "      <td>1656.686627</td>\n",
       "      <td>1.622508e+09</td>\n",
       "      <td>0.000437</td>\n",
       "      <td>0.000220</td>\n",
       "      <td>0.000248</td>\n",
       "      <td>IAJ9206</td>\n",
       "      <td>22.87</td>\n",
       "    </tr>\n",
       "    <tr>\n",
       "      <th>4</th>\n",
       "      <td>60b58515f77013684c414765</td>\n",
       "      <td>2021-06-01 00:53:41.450</td>\n",
       "      <td>0.010014</td>\n",
       "      <td>0.005213</td>\n",
       "      <td>0.011332</td>\n",
       "      <td>3.006</td>\n",
       "      <td>1656.686627</td>\n",
       "      <td>1.622509e+09</td>\n",
       "      <td>0.000501</td>\n",
       "      <td>0.000251</td>\n",
       "      <td>0.000275</td>\n",
       "      <td>IAJ9206</td>\n",
       "      <td>22.56</td>\n",
       "    </tr>\n",
       "  </tbody>\n",
       "</table>\n",
       "</div>"
      ],
      "text/plain": [
       "                        _id                 created  params.accelRMS.x  \\\n",
       "0  60b57955f77013684c413e39 2021-06-01 00:03:33.370           0.010463   \n",
       "1  60b57c53f77013684c41409f 2021-06-01 00:16:19.173           0.011437   \n",
       "2  60b57f34f77013684c4142cd 2021-06-01 00:28:36.553           0.010494   \n",
       "3  60b58237f77013684c41450c 2021-06-01 00:41:27.622           0.009859   \n",
       "4  60b58515f77013684c414765 2021-06-01 00:53:41.450           0.010014   \n",
       "\n",
       "   params.accelRMS.y  params.accelRMS.z  params.duration  params.sampRate  \\\n",
       "0           0.004463           0.011677            3.006      1656.686627   \n",
       "1           0.004983           0.011482            3.006      1656.686627   \n",
       "2           0.005024           0.011120            3.006      1656.686627   \n",
       "3           0.004786           0.011096            3.006      1656.686627   \n",
       "4           0.005213           0.011332            3.006      1656.686627   \n",
       "\n",
       "   params.timeStart  params.velRMS.x  params.velRMS.y  params.velRMS.z  \\\n",
       "0      1.622506e+09         0.000511         0.000176         0.000289   \n",
       "1      1.622507e+09         0.000633         0.000238         0.000292   \n",
       "2      1.622507e+09         0.000524         0.000226         0.000246   \n",
       "3      1.622508e+09         0.000437         0.000220         0.000248   \n",
       "4      1.622509e+09         0.000501         0.000251         0.000275   \n",
       "\n",
       "  sensorId   temp  \n",
       "0  IAJ9206  23.94  \n",
       "1  IAJ9206  23.19  \n",
       "2  IAJ9206  22.50  \n",
       "3  IAJ9206  22.87  \n",
       "4  IAJ9206  22.56  "
      ]
     },
     "execution_count": 565,
     "metadata": {},
     "output_type": "execute_result"
    }
   ],
   "source": [
    "collects = collects.rename(columns={'createdAt':'created'})\n",
    "collects = collects.drop_duplicates('_id')\n",
    "collects['created'] = pd.to_datetime(collects['created']).dt.tz_localize(None)\n",
    "collects.head()"
   ]
  },
  {
   "cell_type": "code",
   "execution_count": 566,
   "metadata": {},
   "outputs": [
    {
     "name": "stdout",
     "output_type": "stream",
     "text": [
      "<class 'pandas.core.frame.DataFrame'>\n",
      "RangeIndex: 33901 entries, 0 to 33900\n",
      "Data columns (total 13 columns):\n",
      " #   Column             Non-Null Count  Dtype         \n",
      "---  ------             --------------  -----         \n",
      " 0   _id                33901 non-null  object        \n",
      " 1   created            33901 non-null  datetime64[ns]\n",
      " 2   params.accelRMS.x  33441 non-null  float64       \n",
      " 3   params.accelRMS.y  33441 non-null  float64       \n",
      " 4   params.accelRMS.z  33441 non-null  float64       \n",
      " 5   params.duration    33441 non-null  float64       \n",
      " 6   params.sampRate    33441 non-null  float64       \n",
      " 7   params.timeStart   33441 non-null  float64       \n",
      " 8   params.velRMS.x    33441 non-null  float64       \n",
      " 9   params.velRMS.y    33441 non-null  float64       \n",
      " 10  params.velRMS.z    33441 non-null  float64       \n",
      " 11  sensorId           33901 non-null  object        \n",
      " 12  temp               33901 non-null  float64       \n",
      "dtypes: datetime64[ns](1), float64(10), object(2)\n",
      "memory usage: 3.4+ MB\n"
     ]
    }
   ],
   "source": [
    "collects.info()"
   ]
  },
  {
   "cell_type": "code",
   "execution_count": 567,
   "metadata": {},
   "outputs": [
    {
     "name": "stdout",
     "output_type": "stream",
     "text": [
      "['IAJ9206' 'LZY4270' 'MUR8453' 'MXK6435' 'MYD8706' 'MYS2071' 'MZU6388'\n",
      " 'NAH4736' 'NAI1549' 'NEW4797']\n",
      "['IAJ9206' 'LZY4270' 'MUR8453' 'MXK6435' 'MYD8706' 'MYS2071' 'MZU6388'\n",
      " 'NAH4736' 'NAI1549' 'NEW4797']\n"
     ]
    }
   ],
   "source": [
    "print(assets['sensorId'].unique())\n",
    "print(collects['sensorId'].unique())"
   ]
  },
  {
   "cell_type": "code",
   "execution_count": 568,
   "metadata": {},
   "outputs": [
    {
     "data": {
      "text/html": [
       "<div>\n",
       "<style scoped>\n",
       "    .dataframe tbody tr th:only-of-type {\n",
       "        vertical-align: middle;\n",
       "    }\n",
       "\n",
       "    .dataframe tbody tr th {\n",
       "        vertical-align: top;\n",
       "    }\n",
       "\n",
       "    .dataframe thead th {\n",
       "        text-align: right;\n",
       "    }\n",
       "</style>\n",
       "<table border=\"1\" class=\"dataframe\">\n",
       "  <thead>\n",
       "    <tr style=\"text-align: right;\">\n",
       "      <th></th>\n",
       "      <th>_id_x</th>\n",
       "      <th>created</th>\n",
       "      <th>params.accelRMS.x</th>\n",
       "      <th>params.accelRMS.y</th>\n",
       "      <th>params.accelRMS.z</th>\n",
       "      <th>params.duration</th>\n",
       "      <th>params.sampRate</th>\n",
       "      <th>params.timeStart</th>\n",
       "      <th>params.velRMS.x</th>\n",
       "      <th>params.velRMS.y</th>\n",
       "      <th>...</th>\n",
       "      <th>modelType</th>\n",
       "      <th>name</th>\n",
       "      <th>specifications.axisX</th>\n",
       "      <th>specifications.axisY</th>\n",
       "      <th>specifications.axisZ</th>\n",
       "      <th>specifications.maxDowntime</th>\n",
       "      <th>specifications.maxTemp</th>\n",
       "      <th>specifications.power</th>\n",
       "      <th>specifications.rpm</th>\n",
       "      <th>specifications.workdays</th>\n",
       "    </tr>\n",
       "  </thead>\n",
       "  <tbody>\n",
       "    <tr>\n",
       "      <th>0</th>\n",
       "      <td>60b57955f77013684c413e39</td>\n",
       "      <td>2021-06-01 00:03:33.370</td>\n",
       "      <td>0.010463</td>\n",
       "      <td>0.004463</td>\n",
       "      <td>0.011677</td>\n",
       "      <td>3.006</td>\n",
       "      <td>1656.686627</td>\n",
       "      <td>1.622506e+09</td>\n",
       "      <td>0.000511</td>\n",
       "      <td>0.000176</td>\n",
       "      <td>...</td>\n",
       "      <td>compressor</td>\n",
       "      <td>Ventilador Acima do Elemento GA160 FF - Prédio...</td>\n",
       "      <td>vertical</td>\n",
       "      <td>horizontal</td>\n",
       "      <td>axial</td>\n",
       "      <td>48.0</td>\n",
       "      <td>NaN</td>\n",
       "      <td>3.7</td>\n",
       "      <td>1735.0</td>\n",
       "      <td>NaN</td>\n",
       "    </tr>\n",
       "    <tr>\n",
       "      <th>1</th>\n",
       "      <td>60b57c53f77013684c41409f</td>\n",
       "      <td>2021-06-01 00:16:19.173</td>\n",
       "      <td>0.011437</td>\n",
       "      <td>0.004983</td>\n",
       "      <td>0.011482</td>\n",
       "      <td>3.006</td>\n",
       "      <td>1656.686627</td>\n",
       "      <td>1.622507e+09</td>\n",
       "      <td>0.000633</td>\n",
       "      <td>0.000238</td>\n",
       "      <td>...</td>\n",
       "      <td>compressor</td>\n",
       "      <td>Ventilador Acima do Elemento GA160 FF - Prédio...</td>\n",
       "      <td>vertical</td>\n",
       "      <td>horizontal</td>\n",
       "      <td>axial</td>\n",
       "      <td>48.0</td>\n",
       "      <td>NaN</td>\n",
       "      <td>3.7</td>\n",
       "      <td>1735.0</td>\n",
       "      <td>NaN</td>\n",
       "    </tr>\n",
       "    <tr>\n",
       "      <th>2</th>\n",
       "      <td>60b57f34f77013684c4142cd</td>\n",
       "      <td>2021-06-01 00:28:36.553</td>\n",
       "      <td>0.010494</td>\n",
       "      <td>0.005024</td>\n",
       "      <td>0.011120</td>\n",
       "      <td>3.006</td>\n",
       "      <td>1656.686627</td>\n",
       "      <td>1.622507e+09</td>\n",
       "      <td>0.000524</td>\n",
       "      <td>0.000226</td>\n",
       "      <td>...</td>\n",
       "      <td>compressor</td>\n",
       "      <td>Ventilador Acima do Elemento GA160 FF - Prédio...</td>\n",
       "      <td>vertical</td>\n",
       "      <td>horizontal</td>\n",
       "      <td>axial</td>\n",
       "      <td>48.0</td>\n",
       "      <td>NaN</td>\n",
       "      <td>3.7</td>\n",
       "      <td>1735.0</td>\n",
       "      <td>NaN</td>\n",
       "    </tr>\n",
       "    <tr>\n",
       "      <th>3</th>\n",
       "      <td>60b58237f77013684c41450c</td>\n",
       "      <td>2021-06-01 00:41:27.622</td>\n",
       "      <td>0.009859</td>\n",
       "      <td>0.004786</td>\n",
       "      <td>0.011096</td>\n",
       "      <td>3.006</td>\n",
       "      <td>1656.686627</td>\n",
       "      <td>1.622508e+09</td>\n",
       "      <td>0.000437</td>\n",
       "      <td>0.000220</td>\n",
       "      <td>...</td>\n",
       "      <td>compressor</td>\n",
       "      <td>Ventilador Acima do Elemento GA160 FF - Prédio...</td>\n",
       "      <td>vertical</td>\n",
       "      <td>horizontal</td>\n",
       "      <td>axial</td>\n",
       "      <td>48.0</td>\n",
       "      <td>NaN</td>\n",
       "      <td>3.7</td>\n",
       "      <td>1735.0</td>\n",
       "      <td>NaN</td>\n",
       "    </tr>\n",
       "    <tr>\n",
       "      <th>4</th>\n",
       "      <td>60b58515f77013684c414765</td>\n",
       "      <td>2021-06-01 00:53:41.450</td>\n",
       "      <td>0.010014</td>\n",
       "      <td>0.005213</td>\n",
       "      <td>0.011332</td>\n",
       "      <td>3.006</td>\n",
       "      <td>1656.686627</td>\n",
       "      <td>1.622509e+09</td>\n",
       "      <td>0.000501</td>\n",
       "      <td>0.000251</td>\n",
       "      <td>...</td>\n",
       "      <td>compressor</td>\n",
       "      <td>Ventilador Acima do Elemento GA160 FF - Prédio...</td>\n",
       "      <td>vertical</td>\n",
       "      <td>horizontal</td>\n",
       "      <td>axial</td>\n",
       "      <td>48.0</td>\n",
       "      <td>NaN</td>\n",
       "      <td>3.7</td>\n",
       "      <td>1735.0</td>\n",
       "      <td>NaN</td>\n",
       "    </tr>\n",
       "  </tbody>\n",
       "</table>\n",
       "<p>5 rows × 28 columns</p>\n",
       "</div>"
      ],
      "text/plain": [
       "                      _id_x                 created  params.accelRMS.x  \\\n",
       "0  60b57955f77013684c413e39 2021-06-01 00:03:33.370           0.010463   \n",
       "1  60b57c53f77013684c41409f 2021-06-01 00:16:19.173           0.011437   \n",
       "2  60b57f34f77013684c4142cd 2021-06-01 00:28:36.553           0.010494   \n",
       "3  60b58237f77013684c41450c 2021-06-01 00:41:27.622           0.009859   \n",
       "4  60b58515f77013684c414765 2021-06-01 00:53:41.450           0.010014   \n",
       "\n",
       "   params.accelRMS.y  params.accelRMS.z  params.duration  params.sampRate  \\\n",
       "0           0.004463           0.011677            3.006      1656.686627   \n",
       "1           0.004983           0.011482            3.006      1656.686627   \n",
       "2           0.005024           0.011120            3.006      1656.686627   \n",
       "3           0.004786           0.011096            3.006      1656.686627   \n",
       "4           0.005213           0.011332            3.006      1656.686627   \n",
       "\n",
       "   params.timeStart  params.velRMS.x  params.velRMS.y  ...   modelType  \\\n",
       "0      1.622506e+09         0.000511         0.000176  ...  compressor   \n",
       "1      1.622507e+09         0.000633         0.000238  ...  compressor   \n",
       "2      1.622507e+09         0.000524         0.000226  ...  compressor   \n",
       "3      1.622508e+09         0.000437         0.000220  ...  compressor   \n",
       "4      1.622509e+09         0.000501         0.000251  ...  compressor   \n",
       "\n",
       "                                                name  specifications.axisX  \\\n",
       "0  Ventilador Acima do Elemento GA160 FF - Prédio...              vertical   \n",
       "1  Ventilador Acima do Elemento GA160 FF - Prédio...              vertical   \n",
       "2  Ventilador Acima do Elemento GA160 FF - Prédio...              vertical   \n",
       "3  Ventilador Acima do Elemento GA160 FF - Prédio...              vertical   \n",
       "4  Ventilador Acima do Elemento GA160 FF - Prédio...              vertical   \n",
       "\n",
       "  specifications.axisY specifications.axisZ specifications.maxDowntime  \\\n",
       "0           horizontal                axial                       48.0   \n",
       "1           horizontal                axial                       48.0   \n",
       "2           horizontal                axial                       48.0   \n",
       "3           horizontal                axial                       48.0   \n",
       "4           horizontal                axial                       48.0   \n",
       "\n",
       "  specifications.maxTemp specifications.power specifications.rpm  \\\n",
       "0                    NaN                  3.7             1735.0   \n",
       "1                    NaN                  3.7             1735.0   \n",
       "2                    NaN                  3.7             1735.0   \n",
       "3                    NaN                  3.7             1735.0   \n",
       "4                    NaN                  3.7             1735.0   \n",
       "\n",
       "  specifications.workdays  \n",
       "0                     NaN  \n",
       "1                     NaN  \n",
       "2                     NaN  \n",
       "3                     NaN  \n",
       "4                     NaN  \n",
       "\n",
       "[5 rows x 28 columns]"
      ]
     },
     "execution_count": 568,
     "metadata": {},
     "output_type": "execute_result"
    }
   ],
   "source": [
    "full_df = collects.merge(assets, how='left', on='sensorId')\n",
    "full_df.head()"
   ]
  },
  {
   "cell_type": "markdown",
   "metadata": {},
   "source": [
    "## Organizing assets data"
   ]
  },
  {
   "cell_type": "code",
   "execution_count": 569,
   "metadata": {},
   "outputs": [],
   "source": [
    "class Asset:\n",
    "    def __init__(self, df, row):\n",
    "        self.sensorID = row['sensorId']\n",
    "        self.company = row['company']\n",
    "        self.description = row['description']\n",
    "        self.model = row['model']\n",
    "        self.modelType = row['modelType']\n",
    "        self.name = row['name']\n",
    "        self.axisX = row['specifications.axisX']\n",
    "        self.axisY = row['specifications.axisY']\n",
    "        self.axisZ = row['specifications.axisZ']\n",
    "        self.maxDowntime = row['specifications.maxDowntime']\n",
    "        self.maxTemp = row['specifications.maxTemp']\n",
    "        self.power = row['specifications.power']\n",
    "        self.rpm = row['specifications.rpm']\n",
    "        self.power = row['specifications.power']\n",
    "        self.workdays = row['specifications.workdays']\n",
    "        \n",
    "        self.df = self.setData(df)\n",
    "\n",
    "        self.calcDownTime()\n",
    "        if False:\n",
    "            self.plotData()\n",
    "\n",
    "    def setData(self, df):\n",
    "        df = df[df['sensorId'] == self.sensorID].sort_values(by='created')\n",
    "        df['delta_created'] = df['created'].diff(-1)\n",
    "        df['delta_created'] = df['delta_created'].dt.total_seconds()*-1\n",
    "        df['time_s'] = df['created']-df['created'].min()\n",
    "        df['time_s'] = df['time_s'].dt.total_seconds()\n",
    "        df['time_s_2'] = df['params.timeStart'] - df['params.timeStart'].min()\n",
    "        df[[\n",
    "            'params.accelRMS.x',\n",
    "            'params.accelRMS.y',\n",
    "            'params.accelRMS.z',\n",
    "            'params.velRMS.x',\n",
    "            'params.velRMS.y',\n",
    "            'params.velRMS.z']] = df[[\n",
    "            'params.accelRMS.x',\n",
    "            'params.accelRMS.y',\n",
    "            'params.accelRMS.z',\n",
    "            'params.velRMS.x',\n",
    "            'params.velRMS.y',\n",
    "            'params.velRMS.z'\n",
    "            ]].fillna(np.nan)\n",
    "        df['time_s_3'] = df['time_s_2']\n",
    "        df['time_s_2'] = df['time_s_2'].fillna(df['time_s'])\n",
    "        df = df.reset_index(drop=True)\n",
    "        return df\n",
    "    \n",
    "    def plotData(self):\n",
    "        details = '\\\n",
    "        company: {}\\n\\\n",
    "        name: {}\\n\\\n",
    "        sensorID: {}\\n\\\n",
    "        model: {}\\n\\\n",
    "        model type: {}\\n\\\n",
    "        maxTemp: {}\\n\\\n",
    "        power: {}\\n\\\n",
    "        rpm: {}'.format(\n",
    "            self.company,\n",
    "            self.name,\n",
    "            self.sensorID,\n",
    "            self.model,\n",
    "            self.modelType,\n",
    "            self.maxTemp,\n",
    "            self.power,\n",
    "            self.rpm)\n",
    "\n",
    "        fig, axes = plt.subplots(4, 2, figsize=(15, 10), sharey=False)\n",
    "        plt.subplots_adjust(wspace=0.2, hspace=0.4)\n",
    "        axes[1][0].plot(self.df['time_s_2'], self.df['params.accelRMS.x'], color='blue')\n",
    "        axes[1][0].axhline(y = self.amp_x*0.05 + self.df['params.accelRMS.x'].min(), color = 'r', linestyle = '-')\n",
    "        axes[2][0].plot(self.df['time_s_2'], self.df['params.accelRMS.y'], color='blue')\n",
    "        axes[2][0].axhline(y = self.amp_y*0.05 + self.df['params.accelRMS.y'].min(), color = 'r', linestyle = '-')\n",
    "        axes[3][0].plot(self.df['time_s_2'], self.df['params.accelRMS.z'], color='blue')\n",
    "        axes[3][0].axhline(y = self.amp_z*0.05 + self.df['params.accelRMS.z'].min(), color = 'r', linestyle = '-')\n",
    "\n",
    "        axes[1][1].plot(self.df['time_s_2'], self.df['params.velRMS.x'], color='green')\n",
    "        axes[2][1].plot(self.df['time_s_2'], self.df['params.velRMS.y'], color='green')\n",
    "        axes[3][1].plot(self.df['time_s_2'], self.df['params.velRMS.z'], color='green')\n",
    "\n",
    "        axes[0][1].plot(self.df['time_s_2'], self.df['temp'], color = 'orange')\n",
    "\n",
    "        axes[0][0].text(0.05, 0.95, details, fontsize=8, horizontalalignment='left', verticalalignment='top')\n",
    "\n",
    "        fig.suptitle('Asset - {}'.format(self.name))\n",
    "        axes[0,0].set_title('details')\n",
    "        axes[0,1].set_title('temp.')\n",
    "        axes[1,0].set_title('acel.')\n",
    "        axes[1,1].set_title('veloc.')\n",
    "        axes[1,0].set_ylabel('x')\n",
    "        axes[2,0].set_ylabel('y')\n",
    "        axes[3,0].set_ylabel('z')\n",
    "        axes[3,0].set_xlabel('time')\n",
    "        axes[3,1].set_xlabel('time')\n",
    "\n",
    "    def calcDownTime(self):\n",
    "        self.amp_x = self.df['params.accelRMS.x'].max() - self.df['params.accelRMS.x'].min()\n",
    "        self.amp_y = self.df['params.accelRMS.y'].max() - self.df['params.accelRMS.y'].min()\n",
    "        self.amp_z = self.df['params.accelRMS.z'].max() - self.df['params.accelRMS.z'].min()\n",
    "\n",
    "        self.df['downtime'] = np.where(\n",
    "            ((self.df['params.accelRMS.x'].isnull())|\n",
    "            (self.df['params.accelRMS.y'].isnull())|\n",
    "            (self.df['params.accelRMS.z'].isnull()))|\n",
    "            ((self.df['params.accelRMS.x'] < self.amp_x*0.05 + self.df['params.accelRMS.x'].min())|\n",
    "            (self.df['params.accelRMS.y'] < self.amp_y*0.05 + self.df['params.accelRMS.y'].min())|\n",
    "            (self.df['params.accelRMS.z'] < self.amp_z*0.05 + self.df['params.accelRMS.z'].min()))|\n",
    "            (self.df['delta_created'] > self.df['delta_created'].mean()*1.1), True, False)\n",
    "\n",
    "        down_df = self.df.iloc[:-1] # excluir primeira linha, pois não tem delta\n",
    "        down_df = down_df[down_df['downtime']]\n",
    "        self.totalTime = self.df['params.timeStart'].max() - self.df['params.timeStart'].min()\n",
    "        self.downTime = down_df['delta_created'].sum()\n",
    "        print('{} - uptime: {:.0f} s, downtime: {:.0f} s - {:.2f}%'.format(\n",
    "            self.name, self.totalTime-self.downTime, self.downTime, 100*self.downTime/self.totalTime)\n",
    "        )\n",
    "\n",
    "    def normalize(self):\n",
    "        max_val = max(self.df[['params.accelRMS.x','params.accelRMS.y','params.accelRMS.z']].max())\n",
    "        min_val = min(self.df[['params.accelRMS.x','params.accelRMS.y','params.accelRMS.z']].min())\n",
    "        self.df[\n",
    "            ['params.accelRMS.x_n','params.accelRMS.y_n','params.accelRMS.z_n']\n",
    "        ] = (self.df[['params.accelRMS.x','params.accelRMS.y','params.accelRMS.z']]-min_val)/(max_val-min_val)\n",
    "        \n",
    "        self.df['params.accelRMS.x_n'] = self.df['params.accelRMS.x_n'].fillna(-1)\n",
    "        self.df['params.accelRMS.y_n'] = self.df['params.accelRMS.y_n'].fillna(-1)\n",
    "        self.df['params.accelRMS.z_n'] = self.df['params.accelRMS.z_n'].fillna(-1)\n",
    "\n",
    "        # fig, axes = plt.subplots(3, 1, figsize=(15, 10), sharey=False)\n",
    "        # plt.subplots_adjust(wspace=0.2, hspace=0.4)\n",
    "        # axes[0].plot(self.df['time_s_2'], self.df['params.accelRMS.x_n'], color='green')\n",
    "        # axes[1].plot(self.df['time_s_2'], self.df['params.accelRMS.y_n'], color='green')\n",
    "        # axes[2].plot(self.df['time_s_2'], self.df['params.accelRMS.z_n'], color='green')\n",
    "\n",
    "    def varDetection(self):\n",
    "        self.isForest = IsolationForest(contamination=0.04, max_samples=floor(len(self.df)*0.1))\n",
    "        pred = self.isForest.fit_predict(self.df[['params.accelRMS.x_n','params.accelRMS.y_n','params.accelRMS.z_n']])\n",
    "        self.df['pred'] = np.where(pred == -1, True, False)\n",
    "        self.df['params.accelRMS.x_p'] = np.where(self.df['pred'], self.df['params.accelRMS.x'], np.nan)\n",
    "        self.df['params.accelRMS.y_p'] = np.where(self.df['pred'], self.df['params.accelRMS.y'], np.nan)\n",
    "        self.df['params.accelRMS.z_p'] = np.where(self.df['pred'], self.df['params.accelRMS.z'], np.nan)\n",
    "\n",
    "        fig, axes = plt.subplots(4, 2, figsize=(15, 10), sharey=False)\n",
    "        plt.subplots_adjust(wspace=0.2, hspace=0.4)\n",
    "        axes[0][0].plot(self.df['time_s_2'], self.df['params.accelRMS.x'], color='blue')\n",
    "        axes[0][0].plot(self.df['time_s_2'], self.df['params.accelRMS.x_p'], '-*', color='red')\n",
    "        axes[1][0].plot(self.df['time_s_2'], self.df['params.accelRMS.y'], color='blue')\n",
    "        axes[1][0].plot(self.df['time_s_2'], self.df['params.accelRMS.y_p'], '-*', color='red')\n",
    "        axes[2][0].plot(self.df['time_s_2'], self.df['params.accelRMS.z'], color='blue')\n",
    "        axes[2][0].plot(self.df['time_s_2'], self.df['params.accelRMS.z_p'], '-*', color='red')\n",
    "        pass\n"
   ]
  },
  {
   "cell_type": "code",
   "execution_count": 570,
   "metadata": {},
   "outputs": [
    {
     "name": "stdout",
     "output_type": "stream",
     "text": [
      "Ventilador Acima do Elemento GA160 FF - Prédio B015 - uptime: 642593 s, downtime: 2471612 s - 79.37%\n",
      "RDF-61.1 - uptime: 1908978 s, downtime: 1205098 s - 38.70%\n",
      "TRANSFORMADOR 500 KVA N°1 - uptime: 1687716 s, downtime: 1421396 s - 45.72%\n",
      "Motor Bomba - Tanque de Expansão Tubo Verde   - uptime: 692344 s, downtime: 2421593 s - 77.77%\n",
      "CAG1- BAGS.12- Motor - uptime: 1266423 s, downtime: 1847763 s - 59.33%\n",
      "VTF-61.1 - uptime: 3022002 s, downtime: 92104 s - 2.96%\n",
      "Boko MA-1510 - Motor 2 da UH - uptime: 372505 s, downtime: 2741936 s - 88.04%\n"
     ]
    },
    {
     "name": "stdout",
     "output_type": "stream",
     "text": [
      "Ventilador -GA75 FF - Prédio B104 - uptime: 1649779 s, downtime: 1434967 s - 46.52%\n",
      "CAG1- BAGS.3- Motor  - uptime: 1224573 s, downtime: 1889622 s - 60.68%\n",
      "ROTULADORA SIDEL  - uptime: 1422934 s, downtime: 1691270 s - 54.31%\n"
     ]
    }
   ],
   "source": [
    "mach = list(assets['sensorId'].unique())\n",
    "data = {}\n",
    "\n",
    "for idx, row in assets.iterrows():\n",
    "    data[row['sensorId']] = Asset(full_df, row)\n",
    "    "
   ]
  },
  {
   "cell_type": "markdown",
   "metadata": {},
   "source": [
    "## Correlação"
   ]
  },
  {
   "cell_type": "code",
   "execution_count": 571,
   "metadata": {},
   "outputs": [],
   "source": [
    "for idx, row in assets.iterrows():\n",
    "    data[row['sensorId']].normalize()\n",
    "    # data[row['sensorId']].varDetection()"
   ]
  },
  {
   "cell_type": "code",
   "execution_count": null,
   "metadata": {},
   "outputs": [],
   "source": []
  },
  {
   "cell_type": "markdown",
   "metadata": {},
   "source": [
    "## Neural network for pattern change detection"
   ]
  },
  {
   "cell_type": "code",
   "execution_count": 572,
   "metadata": {},
   "outputs": [],
   "source": [
    "cols = ['params.accelRMS.x_n','params.accelRMS.y_n', 'params.accelRMS.z_n']\n",
    "aux = data['IAJ9206'].df[cols]\n",
    "\n",
    "windowLen = floor(len(aux)/20)\n",
    "step = floor(len(aux)/40)\n",
    "\n",
    "xdataSet = [np.array(aux[i:i+windowLen].values) for i in range(len(aux) - (windowLen + 1))]\n",
    "ydataSet = [np.array(aux.iloc[i+windowLen].values) for i in range(len(aux) - (windowLen + 1))]\n",
    "\n",
    "xdataSet = torch.tensor(np.array(xdataSet),dtype=torch.float32)\n",
    "ydataSet = torch.tensor(np.array(ydataSet),dtype=torch.float32)\n",
    "\n",
    "xdataSet_train = xdataSet[[i for i in range(0,len(xdataSet),step)]]\n",
    "ydataSet_train = ydataSet[[i for i in range(0,len(ydataSet),step)]]"
   ]
  },
  {
   "cell_type": "code",
   "execution_count": 678,
   "metadata": {},
   "outputs": [
    {
     "data": {
      "text/plain": [
       "True"
      ]
     },
     "execution_count": 678,
     "metadata": {},
     "output_type": "execute_result"
    }
   ],
   "source": [
    "-1 in xdataSet_train"
   ]
  },
  {
   "cell_type": "code",
   "execution_count": 574,
   "metadata": {},
   "outputs": [
    {
     "data": {
      "text/plain": [
       "torch.Size([3786, 199, 3])"
      ]
     },
     "execution_count": 574,
     "metadata": {},
     "output_type": "execute_result"
    }
   ],
   "source": [
    "xdataSet.shape"
   ]
  },
  {
   "cell_type": "code",
   "execution_count": 575,
   "metadata": {},
   "outputs": [
    {
     "data": {
      "text/plain": [
       "torch.Size([3786, 199, 3])"
      ]
     },
     "execution_count": 575,
     "metadata": {},
     "output_type": "execute_result"
    }
   ],
   "source": [
    "xdataSet.shape"
   ]
  },
  {
   "cell_type": "code",
   "execution_count": 666,
   "metadata": {},
   "outputs": [],
   "source": [
    "import torch.nn as nn\n",
    "\n",
    "model = nn.Sequential(\n",
    "    nn.Linear(199*3, 199),\n",
    "    nn.ReLU(),\n",
    "    nn.Linear(199, 50),\n",
    "    nn.ReLU(),\n",
    "    nn.Linear(50, 3)\n",
    ")\n",
    "\n",
    "loss_fn = nn.MSELoss()\n",
    "optimizer = torch.optim.Adam(model.parameters(), lr=0.001)"
   ]
  },
  {
   "cell_type": "code",
   "execution_count": 667,
   "metadata": {},
   "outputs": [
    {
     "data": {
      "text/plain": [
       "Sequential(\n",
       "  (0): Linear(in_features=597, out_features=199, bias=True)\n",
       "  (1): ReLU()\n",
       "  (2): Linear(in_features=199, out_features=50, bias=True)\n",
       "  (3): ReLU()\n",
       "  (4): Linear(in_features=50, out_features=3, bias=True)\n",
       ")"
      ]
     },
     "execution_count": 667,
     "metadata": {},
     "output_type": "execute_result"
    }
   ],
   "source": [
    "model"
   ]
  },
  {
   "cell_type": "code",
   "execution_count": 679,
   "metadata": {},
   "outputs": [
    {
     "name": "stdout",
     "output_type": "stream",
     "text": [
      "0\n",
      "10\n",
      "20\n",
      "30\n",
      "40\n",
      "50\n",
      "60\n",
      "70\n",
      "80\n",
      "90\n"
     ]
    }
   ],
   "source": [
    "for n in range(100):\n",
    "    if n%10 == 0:\n",
    "        print(n)\n",
    "    for m in range(xdataSet_train.shape[0]):\n",
    "        if not(-1 in xdataSet_train[m] or -1 in ydataSet_train[m]):\n",
    "            y_pred = model(torch.flatten(xdataSet_train[m]))\n",
    "            loss = loss_fn(y_pred, ydataSet_train[m])\n",
    "            optimizer.zero_grad()\n",
    "            loss.backward()\n",
    "            optimizer.step()"
   ]
  },
  {
   "cell_type": "code",
   "execution_count": 680,
   "metadata": {},
   "outputs": [
    {
     "data": {
      "text/plain": [
       "tensor(8.6041e-06, grad_fn=<MseLossBackward0>)"
      ]
     },
     "execution_count": 680,
     "metadata": {},
     "output_type": "execute_result"
    }
   ],
   "source": [
    "loss"
   ]
  },
  {
   "cell_type": "code",
   "execution_count": 681,
   "metadata": {},
   "outputs": [],
   "source": [
    "loss = []\n",
    "for m in range(xdataSet.shape[0]):\n",
    "    y_pred = model(torch.flatten(xdataSet[m]))\n",
    "    loss = loss + [loss_fn(y_pred, ydataSet[m]).item()]\n",
    "\n",
    "loss = [0]*(len(aux)-len(loss)) + loss"
   ]
  },
  {
   "cell_type": "code",
   "execution_count": 682,
   "metadata": {},
   "outputs": [
    {
     "data": {
      "text/plain": [
       "3986"
      ]
     },
     "execution_count": 682,
     "metadata": {},
     "output_type": "execute_result"
    }
   ],
   "source": [
    "len(loss)"
   ]
  },
  {
   "cell_type": "code",
   "execution_count": 683,
   "metadata": {},
   "outputs": [
    {
     "data": {
      "text/plain": [
       "3986"
      ]
     },
     "execution_count": 683,
     "metadata": {},
     "output_type": "execute_result"
    }
   ],
   "source": [
    "len(aux)"
   ]
  },
  {
   "cell_type": "code",
   "execution_count": 694,
   "metadata": {},
   "outputs": [
    {
     "data": {
      "text/html": [
       "<div>\n",
       "<style scoped>\n",
       "    .dataframe tbody tr th:only-of-type {\n",
       "        vertical-align: middle;\n",
       "    }\n",
       "\n",
       "    .dataframe tbody tr th {\n",
       "        vertical-align: top;\n",
       "    }\n",
       "\n",
       "    .dataframe thead th {\n",
       "        text-align: right;\n",
       "    }\n",
       "</style>\n",
       "<table border=\"1\" class=\"dataframe\">\n",
       "  <thead>\n",
       "    <tr style=\"text-align: right;\">\n",
       "      <th></th>\n",
       "      <th>params.accelRMS.x_n</th>\n",
       "      <th>params.accelRMS.y_n</th>\n",
       "      <th>params.accelRMS.z_n</th>\n",
       "      <th>pred</th>\n",
       "      <th>pred_2</th>\n",
       "    </tr>\n",
       "  </thead>\n",
       "  <tbody>\n",
       "    <tr>\n",
       "      <th>0</th>\n",
       "      <td>0.014234</td>\n",
       "      <td>0.002111</td>\n",
       "      <td>0.016687</td>\n",
       "      <td>NaN</td>\n",
       "      <td>False</td>\n",
       "    </tr>\n",
       "    <tr>\n",
       "      <th>1</th>\n",
       "      <td>0.016202</td>\n",
       "      <td>0.003162</td>\n",
       "      <td>0.016293</td>\n",
       "      <td>NaN</td>\n",
       "      <td>False</td>\n",
       "    </tr>\n",
       "    <tr>\n",
       "      <th>2</th>\n",
       "      <td>0.014297</td>\n",
       "      <td>0.003245</td>\n",
       "      <td>0.015562</td>\n",
       "      <td>NaN</td>\n",
       "      <td>False</td>\n",
       "    </tr>\n",
       "    <tr>\n",
       "      <th>3</th>\n",
       "      <td>0.013014</td>\n",
       "      <td>0.002764</td>\n",
       "      <td>0.015513</td>\n",
       "      <td>NaN</td>\n",
       "      <td>False</td>\n",
       "    </tr>\n",
       "    <tr>\n",
       "      <th>4</th>\n",
       "      <td>0.013327</td>\n",
       "      <td>0.003627</td>\n",
       "      <td>0.015990</td>\n",
       "      <td>NaN</td>\n",
       "      <td>False</td>\n",
       "    </tr>\n",
       "    <tr>\n",
       "      <th>...</th>\n",
       "      <td>...</td>\n",
       "      <td>...</td>\n",
       "      <td>...</td>\n",
       "      <td>...</td>\n",
       "      <td>...</td>\n",
       "    </tr>\n",
       "    <tr>\n",
       "      <th>3981</th>\n",
       "      <td>0.010509</td>\n",
       "      <td>0.001627</td>\n",
       "      <td>0.015655</td>\n",
       "      <td>NaN</td>\n",
       "      <td>True</td>\n",
       "    </tr>\n",
       "    <tr>\n",
       "      <th>3982</th>\n",
       "      <td>0.010600</td>\n",
       "      <td>0.001942</td>\n",
       "      <td>0.015370</td>\n",
       "      <td>NaN</td>\n",
       "      <td>True</td>\n",
       "    </tr>\n",
       "    <tr>\n",
       "      <th>3983</th>\n",
       "      <td>0.010781</td>\n",
       "      <td>0.001837</td>\n",
       "      <td>0.015424</td>\n",
       "      <td>NaN</td>\n",
       "      <td>True</td>\n",
       "    </tr>\n",
       "    <tr>\n",
       "      <th>3984</th>\n",
       "      <td>0.010680</td>\n",
       "      <td>0.002180</td>\n",
       "      <td>0.015323</td>\n",
       "      <td>NaN</td>\n",
       "      <td>True</td>\n",
       "    </tr>\n",
       "    <tr>\n",
       "      <th>3985</th>\n",
       "      <td>0.011192</td>\n",
       "      <td>0.004150</td>\n",
       "      <td>0.016033</td>\n",
       "      <td>NaN</td>\n",
       "      <td>True</td>\n",
       "    </tr>\n",
       "  </tbody>\n",
       "</table>\n",
       "<p>3986 rows × 5 columns</p>\n",
       "</div>"
      ],
      "text/plain": [
       "      params.accelRMS.x_n  params.accelRMS.y_n  params.accelRMS.z_n  pred  \\\n",
       "0                0.014234             0.002111             0.016687   NaN   \n",
       "1                0.016202             0.003162             0.016293   NaN   \n",
       "2                0.014297             0.003245             0.015562   NaN   \n",
       "3                0.013014             0.002764             0.015513   NaN   \n",
       "4                0.013327             0.003627             0.015990   NaN   \n",
       "...                   ...                  ...                  ...   ...   \n",
       "3981             0.010509             0.001627             0.015655   NaN   \n",
       "3982             0.010600             0.001942             0.015370   NaN   \n",
       "3983             0.010781             0.001837             0.015424   NaN   \n",
       "3984             0.010680             0.002180             0.015323   NaN   \n",
       "3985             0.011192             0.004150             0.016033   NaN   \n",
       "\n",
       "      pred_2  \n",
       "0      False  \n",
       "1      False  \n",
       "2      False  \n",
       "3      False  \n",
       "4      False  \n",
       "...      ...  \n",
       "3981    True  \n",
       "3982    True  \n",
       "3983    True  \n",
       "3984    True  \n",
       "3985    True  \n",
       "\n",
       "[3986 rows x 5 columns]"
      ]
     },
     "execution_count": 694,
     "metadata": {},
     "output_type": "execute_result"
    }
   ],
   "source": [
    "aux = aux.reset_index(drop=True)\n",
    "aux['pred'] = loss\n",
    "aux['pred'] = aux['pred'].shift(-1)\n",
    "aux['pred'] = np.where(aux['pred']>0.04, aux['params.accelRMS.x_n'], np.nan)\n",
    "aux"
   ]
  },
  {
   "cell_type": "code",
   "execution_count": 695,
   "metadata": {},
   "outputs": [
    {
     "data": {
      "text/plain": [
       "[<matplotlib.lines.Line2D at 0x17109156b90>]"
      ]
     },
     "execution_count": 695,
     "metadata": {},
     "output_type": "execute_result"
    },
    {
     "data": {
      "image/png": "[encoded data removed]",
      "text/plain": [
       "<Figure size 640x480 with 1 Axes>"
      ]
     },
     "metadata": {},
     "output_type": "display_data"
    }
   ],
   "source": [
    "plt.plot(aux.index,aux['params.accelRMS.x_n'], color='blue')\n",
    "plt.plot(aux.index,aux['pred'], '-*', color='red')"
   ]
  },
  {
   "cell_type": "code",
   "execution_count": 686,
   "metadata": {},
   "outputs": [
    {
     "name": "stdout",
     "output_type": "stream",
     "text": [
      "0\n",
      "0.9988393783569336\n"
     ]
    }
   ],
   "source": [
    "print(min(loss))\n",
    "print(max(loss))"
   ]
  },
  {
   "cell_type": "code",
   "execution_count": 687,
   "metadata": {},
   "outputs": [
    {
     "data": {
      "text/plain": [
       "[<matplotlib.lines.Line2D at 0x17102ca2510>]"
      ]
     },
     "execution_count": 687,
     "metadata": {},
     "output_type": "execute_result"
    },
    {
     "data": {
      "image/png": "[encoded data removed]",
      "text/plain": [
       "<Figure size 640x480 with 1 Axes>"
      ]
     },
     "metadata": {},
     "output_type": "display_data"
    }
   ],
   "source": [
    "plt.plot(list(range(len(loss))), loss, color='green')"
   ]
  },
  {
   "cell_type": "code",
   "execution_count": 582,
   "metadata": {},
   "outputs": [
    {
     "data": {
      "text/plain": [
       "<Axes: xlabel='time_s_2', ylabel='params.accelRMS.x'>"
      ]
     },
     "execution_count": 582,
     "metadata": {},
     "output_type": "execute_result"
    },
    {
     "data": {
      "image/png": "[encoded data removed]",
      "text/plain": [
       "<Figure size 1500x500 with 1 Axes>"
      ]
     },
     "metadata": {},
     "output_type": "display_data"
    }
   ],
   "source": [
    "plt.subplots(figsize=(15, 5), sharey=False)\n",
    "sns.lineplot(data['MZU6388'].df, x='time_s_2', y='params.accelRMS.x', marker='o')"
   ]
  },
  {
   "cell_type": "code",
   "execution_count": null,
   "metadata": {},
   "outputs": [],
   "source": []
  },
  {
   "cell_type": "code",
   "execution_count": null,
   "metadata": {},
   "outputs": [],
   "source": []
  }
 ],
 "metadata": {
  "kernelspec": {
   "display_name": "myVenv",
   "language": "python",
   "name": "python3"
  },
  "language_info": {
   "codemirror_mode": {
    "name": "ipython",
    "version": 3
   },
   "file_extension": ".py",
   "mimetype": "text/x-python",
   "name": "python",
   "nbconvert_exporter": "python",
   "pygments_lexer": "ipython3",
   "version": "3.11.2"
  },
  "orig_nbformat": 4
 },
 "nbformat": 4,
 "nbformat_minor": 2
}
